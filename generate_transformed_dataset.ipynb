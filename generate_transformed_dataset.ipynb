{
 "cells": [
  {
   "cell_type": "markdown",
   "metadata": {},
   "source": [
    "The goal of this file is to transform the data in the original file and output a csv with this data that can be used to train the machine learning model"
   ]
  },
  {
   "cell_type": "code",
   "execution_count": 37,
   "metadata": {},
   "outputs": [],
   "source": [
    "import numpy as np\n",
    "import pandas as pd\n",
    "import random\n",
    "from tqdm import tqdm\n",
    "import time"
   ]
  },
  {
   "cell_type": "code",
   "execution_count": 38,
   "metadata": {},
   "outputs": [],
   "source": [
    "EEG_PATH = '../train_eegs/'\n",
    "SPEC_PATH = '../train_spectrograms/'\n",
    "CHANNELS = ['Fp1', 'F3', 'C3', 'P3', 'F7', 'T3', 'T5', 'O1', 'Fz', 'Cz', 'Pz', 'Fp2', 'F4', 'C4',\n",
    " 'P4', 'F8', 'T4', 'T6', 'O2', 'EKG']\n",
    "\n",
    "# Parameters for generating the output\n",
    "MIN_FREQUENCY = 0\n",
    "MAX_FREQUENCY = 10\n",
    "NUM_FREQUENCIES = (MAX_FREQUENCY - MIN_FREQUENCY) * 6\n",
    "NUM_ROWS = 10000\n",
    "\n",
    "# Determine if expert agreement is required for data to be included and if so what proportion of experts must agree\n",
    "ONLY_CONSENSUS = True\n",
    "CONSENSUS_PROP = 0.66 "
   ]
  },
  {
   "cell_type": "code",
   "execution_count": 39,
   "metadata": {},
   "outputs": [],
   "source": [
    "# Function to generate an empty dataset with the correct headers\n",
    "def create_empty_dataset():\n",
    "    # Create empty new database with the appropriate headers\n",
    "    headers = []\n",
    "    for channel in CHANNELS:\n",
    "        headers.append(\"var_\" + channel)\n",
    "        for j in range(NUM_FREQUENCIES):\n",
    "            headers.append(\"amp_\" + channel + \"_\" + str(j))\n",
    "        for j in range(NUM_FREQUENCIES):\n",
    "            headers.append(\"phase_\" + channel + \"_\" + str(j))\n",
    "    headers.append(\"label\")\n",
    "\n",
    "    new_dataframe = pd.DataFrame(columns = headers)\n",
    "\n",
    "    return new_dataframe"
   ]
  },
  {
   "cell_type": "code",
   "execution_count": 40,
   "metadata": {},
   "outputs": [],
   "source": [
    "# Function to generate the output values\n",
    "def row_transform(row, min_frequency, max_frequency):\n",
    "    \"\"\"\n",
    "    Takes as input a single sample from the train set and returns a reformatted row\n",
    "    New format is: \n",
    "        For each cell, the (1) variance, (2) amplitudes, (3) phases\n",
    "        The ground truth label\n",
    "    \"\"\"\n",
    "\n",
    "    new_row = []\n",
    "\n",
    "    # Read in the EEG\n",
    "    eeg_full = pd.read_parquet(f'{EEG_PATH}{row.eeg_id}.parquet')\n",
    "\n",
    "    # Get the middle 10s that the diagnosis comes from\n",
    "    eeg_offset = int( row.eeg_label_offset_seconds )\n",
    "    eeg_10s = eeg_full.iloc[(eeg_offset+20)*200:(eeg_offset+30)*200]\n",
    "\n",
    "    if np.any(np.isnan(eeg_10s)):\n",
    "        return []\n",
    "\n",
    "    # Construct the interval\n",
    "    t = np.linspace(0, 10, eeg_10s.size)\n",
    "\n",
    "    # Iterate through all the channels\n",
    "    for i in range(len(CHANNELS)):\n",
    "\n",
    "        # Get the data for the specific channel\n",
    "        signal = eeg_10s.iloc[:, i]\n",
    "\n",
    "        # Perform DFT using numpy's rfft function\n",
    "        dft_result = np.fft.rfft(signal)\n",
    "        amplitude = np.abs(dft_result)\n",
    "        phase = np.angle(dft_result)\n",
    "\n",
    "        # Add to the row\n",
    "        new_row.append(np.var(signal))\n",
    "        new_row.extend(amplitude[6*min_frequency:6*max_frequency])\n",
    "        new_row.extend(phase[6*min_frequency:6*max_frequency])\n",
    "\n",
    "    new_row.append(row.expert_consensus)\n",
    "\n",
    "    return new_row\n"
   ]
  },
  {
   "cell_type": "code",
   "execution_count": 41,
   "metadata": {},
   "outputs": [
    {
     "name": "stdout",
     "output_type": "stream",
     "text": [
      "\n",
      "Selecting a random subset of data to avoid problems arising from correlation between samples in same session\n"
     ]
    },
    {
     "name": "stderr",
     "output_type": "stream",
     "text": [
      "Processing: 100%|█████████████████████████████████████| 10000/10000 [37:40<00:00,  4.42 iteration/s]\n"
     ]
    },
    {
     "name": "stdout",
     "output_type": "stream",
     "text": [
      "\n",
      "Samples successfully processed: 9938\n",
      "Samples removed due to incomplete data: 62\n"
     ]
    }
   ],
   "source": [
    "# Read in the train dataset\n",
    "train = pd.read_csv('../train.csv')\n",
    "\n",
    "train_reformat = create_empty_dataset()\n",
    "\n",
    "rows_removed = 0\n",
    "\n",
    "# Only select the rows where there is consensus if this is a condition\n",
    "if ONLY_CONSENSUS:\n",
    "    total = train[['seizure_vote', 'lpd_vote', 'gpd_vote', 'lrda_vote', 'grda_vote', 'other_vote']].sum(axis=1)\n",
    "    max = train[['seizure_vote', 'lpd_vote', 'gpd_vote', 'lrda_vote', 'grda_vote', 'other_vote']].max(axis=1)\n",
    "\n",
    "    consensus_rows = max / total >= CONSENSUS_PROP\n",
    "\n",
    "    train = train[consensus_rows]\n",
    "\n",
    "# Randomize if not processing full dataset\n",
    "if NUM_ROWS != len(train):\n",
    "    random_indices = random.sample(range(len(train)), NUM_ROWS)\n",
    "\n",
    "    # Create a new DataFrame with the random subset\n",
    "    train = train.iloc[random_indices]\n",
    "\n",
    "    print(\"\\nSelecting a random subset of data to avoid problems arising from correlation between samples in same session\")\n",
    "\n",
    "# Iterate through all rows\n",
    "with tqdm(total=NUM_ROWS, desc=\"Processing\", unit=\" iterations\", ncols=100) as pbar:\n",
    "    for r in range(NUM_ROWS): # train.shape[0]\n",
    "        new_row = row_transform(train.iloc[r], MIN_FREQUENCY, MAX_FREQUENCY)\n",
    "\n",
    "        # Check if NaN issues\n",
    "        if len(new_row) != 0:\n",
    "            train_reformat.loc[len(train_reformat)] = new_row\n",
    "        else:\n",
    "            rows_removed += 1\n",
    "\n",
    "        pbar.update(1)\n",
    "        \n",
    "print(\"\\nSamples successfully processed: {}\".format(len(train_reformat)))\n",
    "print(\"Samples removed due to incomplete data: {}\".format(rows_removed))\n",
    "\n",
    "assert len(train_reformat) + rows_removed == NUM_ROWS, \"Row mismatch\"\n",
    "\n",
    "# Convert DataFrame B to CSV\n",
    "extra_info = ''\n",
    "if ONLY_CONSENSUS:\n",
    "    extra_info = '_consensus_{}'.format(CONSENSUS_PROP)\n",
    "train_reformat.to_csv('train_{}_samples_{}_to_{}_hz{}.csv'.format(NUM_ROWS, MIN_FREQUENCY, MAX_FREQUENCY, extra_info), index=False)"
   ]
  }
 ],
 "metadata": {
  "kernelspec": {
   "display_name": "ml_new",
   "language": "python",
   "name": "python3"
  },
  "language_info": {
   "codemirror_mode": {
    "name": "ipython",
    "version": 3
   },
   "file_extension": ".py",
   "mimetype": "text/x-python",
   "name": "python",
   "nbconvert_exporter": "python",
   "pygments_lexer": "ipython3",
   "version": "3.10.13"
  }
 },
 "nbformat": 4,
 "nbformat_minor": 2
}

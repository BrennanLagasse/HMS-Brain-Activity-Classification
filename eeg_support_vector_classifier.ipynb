{
 "cells": [
  {
   "cell_type": "markdown",
   "metadata": {},
   "source": [
    "Support Vector Machine based approach - This classifies neurological disorders by learning the relationship between neurological conditions and the component frequencies of EEG data found using a Fourier transform\n",
    "\n",
    "To run this file, edit `TRAINPATH` in the second block to match the name of the dataset used to train this model. Generate this with **fft** formatting, **15000** samples, and **balanced** formatting using `generate_transformed_dataset.ipynb`"
   ]
  },
  {
   "cell_type": "code",
   "execution_count": null,
   "metadata": {},
   "outputs": [],
   "source": [
    "import numpy as np\n",
    "import pandas as pd\n",
    "import sklearn.datasets as skdata\n",
    "import sklearn.metrics as skmetrics\n",
    "import matplotlib.pyplot as plt\n",
    "import seaborn as sns\n",
    "\n",
    "from sklearn.svm import SVC"
   ]
  },
  {
   "cell_type": "code",
   "execution_count": 2,
   "metadata": {},
   "outputs": [
    {
     "name": "stdout",
     "output_type": "stream",
     "text": [
      "(1989, 2421)\n"
     ]
    }
   ],
   "source": [
    "# MAKE SURE TO CHANGE THIS TO THE LOCAL PATH TO DATA\n",
    "TRAIN_PATH = \"train_1998_samples_fft_0_to_10_hz_consensus_1.0_balanced.csv\"\n",
    "\n",
    "data = pd.read_csv(TRAIN_PATH)\n",
    "\n",
    "data_np = data.to_numpy()\n",
    "\n",
    "print(data_np.shape)"
   ]
  },
  {
   "cell_type": "code",
   "execution_count": 4,
   "metadata": {},
   "outputs": [],
   "source": [
    "num_input = data_np.shape[1] - 1\n",
    "\n",
    "x = data_np[:, 0:num_input]\n",
    "y = data_np[:, num_input]\n",
    "\n",
    "# Shuffle the dataset based on sample indices\n",
    "shuffled_indices = np.random.permutation(x.shape[0])\n",
    "\n",
    "# Choose the first 80% as training set, next 10% as validation and the rest as testing\n",
    "train_split_idx = int(0.80 * x.shape[0])\n",
    "val_split_idx = int(0.90 * x.shape[0])\n",
    "\n",
    "train_indices = shuffled_indices[0:train_split_idx]\n",
    "val_indices = shuffled_indices[train_split_idx:val_split_idx]\n",
    "test_indices = shuffled_indices[val_split_idx:]\n",
    "\n",
    "# Select the examples from x and y to construct our training, validation, testing sets\n",
    "x_train, y_train = x[train_indices, :], y[train_indices]\n",
    "x_val, y_val = x[val_indices, :], y[val_indices]\n",
    "x_test, y_test = x[test_indices, :], y[test_indices]"
   ]
  },
  {
   "cell_type": "code",
   "execution_count": 5,
   "metadata": {},
   "outputs": [
    {
     "name": "stdout",
     "output_type": "stream",
     "text": [
      "Training model with linear kernel\n",
      "Training Accuracy: 1.0000\n",
      "Validation Accuracy: 0.5477\n",
      "The test results.... 46.73%\n"
     ]
    }
   ],
   "source": [
    "models = []\n",
    "model_vals = []\n",
    "kernels = ['linear', 'poly', 'rbf', 'sigmoid', 'precomputed']\n",
    "tolerances = [1e-1, 1e-2, 1e-3]\n",
    "\n",
    "# Train the models with different parameters\n",
    "for kernel in kernels:\n",
    "    print(f'Training model with {kernel} kernel')\n",
    "    model = SVC(kernel=kernel, tol=1e-1, degree=10, max_iter=-1)\n",
    "\n",
    "    # Train\n",
    "    model.fit(x_train, y_train)\n",
    "    score_train = model.score(x_train, y_train)\n",
    "    print('Training Accuracy: {:.4f}'.format(score_train))\n",
    "\n",
    "    # Validate\n",
    "    score_val = model.score(x_val, y_val)\n",
    "    print('Validation Accuracy: {:.4f}'.format(score_val))\n",
    "\n",
    "    models.append(model)\n",
    "    model_vals.append(score_val)\n",
    "\n",
    "    # If train is perfect, don't bother retraining with finer tolerance\n",
    "    if score_train == 1.0:\n",
    "        break\n",
    "\n",
    "# Choose the best model based on highest validation accuracy\n",
    "best_model_idx = np.argmax(model_vals)\n",
    "best_model = models[best_model_idx]\n",
    "\n",
    "# Best solver on the test set\n",
    "predictions_test = best_model.predict(x_test)\n",
    "score_test = best_model.score(x_test, y_test)\n",
    "\n",
    "print(\"The test results.... {:0.2f}%\".format(score_test*100))\n"
   ]
  }
 ],
 "metadata": {
  "kernelspec": {
   "display_name": "ml_new",
   "language": "python",
   "name": "python3"
  },
  "language_info": {
   "codemirror_mode": {
    "name": "ipython",
    "version": 3
   },
   "file_extension": ".py",
   "mimetype": "text/x-python",
   "name": "python",
   "nbconvert_exporter": "python",
   "pygments_lexer": "ipython3",
   "version": "3.11.7"
  }
 },
 "nbformat": 4,
 "nbformat_minor": 2
}

{
 "cells": [
  {
   "cell_type": "markdown",
   "metadata": {},
   "source": [
    "Fitting a model to the augmented data"
   ]
  },
  {
   "cell_type": "code",
   "execution_count": 1,
   "metadata": {},
   "outputs": [],
   "source": [
    "import numpy as np\n",
    "import pandas as pd\n",
    "import sklearn.datasets as skdata\n",
    "import sklearn.metrics as skmetrics\n",
    "import matplotlib.pyplot as plt\n",
    "import seaborn as sns\n",
    "\n",
    "from sklearn.linear_model import LogisticRegression"
   ]
  },
  {
   "cell_type": "code",
   "execution_count": 2,
   "metadata": {},
   "outputs": [
    {
     "name": "stdout",
     "output_type": "stream",
     "text": [
      "[[738.8546142578125 246329.7402153015 11714.3768138004 ...\n",
      "  3.0611410234348995 -2.5693580435581387 'Seizure']\n",
      " [648.3771362304688 240241.1200637817 12171.878323583564 ...\n",
      "  -2.342824804504037 0.4739627533553749 'Seizure']\n",
      " [769.19580078125 227788.66004180908 6897.6782303575455 ...\n",
      "  2.622234716289113 -1.0056941785956095 'Seizure']\n",
      " ...\n",
      " [546.8899536132812 1271.4500059280545 2106.694742316636 ...\n",
      "  -0.6047417775031619 2.3821534247789025 'GPD']\n",
      " [536.5107421875 4249.36002131924 1441.466645578835 ... 1.405599961234897\n",
      "  -0.8519872328177392 'GPD']\n",
      " [970.7913818359376 9242.559974165632 8429.49405913857 ...\n",
      "  -0.5241702589683626 -2.55045881806235 'GPD']]\n"
     ]
    }
   ],
   "source": [
    "TRAIN_PATH = \"reformatted_train.csv\"\n",
    "\n",
    "data = pd.read_csv(TRAIN_PATH)\n",
    "\n",
    "data_np = data.to_numpy()\n",
    "\n",
    "print(data_np)"
   ]
  },
  {
   "cell_type": "code",
   "execution_count": 3,
   "metadata": {},
   "outputs": [],
   "source": [
    "x = data_np[:, 0:820]\n",
    "y = data_np[:, 820]\n",
    "\n",
    "# Shuffle the dataset based on sample indices\n",
    "shuffled_indices = np.random.permutation(x.shape[0])\n",
    "\n",
    "# Choose the first 80% as training set, next 10% as validation and the rest as testing\n",
    "train_split_idx = int(0.80 * x.shape[0])\n",
    "val_split_idx = int(0.90 * x.shape[0])\n",
    "\n",
    "train_indices = shuffled_indices[0:train_split_idx]\n",
    "val_indices = shuffled_indices[train_split_idx:val_split_idx]\n",
    "test_indices = shuffled_indices[val_split_idx:]\n",
    "\n",
    "# Select the examples from x and y to construct our training, validation, testing sets\n",
    "x_train, y_train = x[train_indices, :], y[train_indices]\n",
    "x_val, y_val = x[val_indices, :], y[val_indices]\n",
    "x_test, y_test = x[test_indices, :], y[test_indices]"
   ]
  },
  {
   "cell_type": "code",
   "execution_count": 4,
   "metadata": {},
   "outputs": [
    {
     "name": "stdout",
     "output_type": "stream",
     "text": [
      "Training Accuracy: 0.6212\n",
      "Validation Accuracy: 0.6250\n",
      "Test Accuracy: 0.5785\n"
     ]
    },
    {
     "name": "stderr",
     "output_type": "stream",
     "text": [
      "c:\\Users\\brenn\\anaconda3\\envs\\ml_new\\lib\\site-packages\\sklearn\\linear_model\\_logistic.py:444: ConvergenceWarning: lbfgs failed to converge (status=2):\n",
      "ABNORMAL_TERMINATION_IN_LNSRCH.\n",
      "\n",
      "Increase the number of iterations (max_iter) or scale the data as shown in:\n",
      "    https://scikit-learn.org/stable/modules/preprocessing.html\n",
      "Please also refer to the documentation for alternative solver options:\n",
      "    https://scikit-learn.org/stable/modules/linear_model.html#logistic-regression\n",
      "  n_iter_i = _check_optimize_result(\n"
     ]
    }
   ],
   "source": [
    "# Create the model\n",
    "model_scikit = LogisticRegression()\n",
    "\n",
    "# Train\n",
    "model_scikit.fit(x_train, y_train)\n",
    "predictions_train = model_scikit.predict(x_train)\n",
    "score_train = model_scikit.score(x_train, y_train)\n",
    "print('Training Accuracy: {:.4f}'.format(score_train))\n",
    "\n",
    "# Validate\n",
    "predictions_val = model_scikit.predict(x_val)\n",
    "score_val = model_scikit.score(x_val, y_val)\n",
    "print('Validation Accuracy: {:.4f}'.format(score_val))\n",
    "\n",
    "# Test\n",
    "predictions_test = model_scikit.predict(x_test)\n",
    "score_test = model_scikit.score(x_test, y_test)\n",
    "print('Test Accuracy: {:.4f}'.format(score_test))"
   ]
  },
  {
   "cell_type": "code",
   "execution_count": 7,
   "metadata": {},
   "outputs": [
    {
     "name": "stderr",
     "output_type": "stream",
     "text": [
      "c:\\Users\\brenn\\anaconda3\\envs\\ml_new\\lib\\site-packages\\sklearn\\svm\\_base.py:1225: ConvergenceWarning: Liblinear failed to converge, increase the number of iterations.\n",
      "  warnings.warn(\n"
     ]
    },
    {
     "name": "stdout",
     "output_type": "stream",
     "text": [
      "Solver: liblinear\n",
      "Training accuracy: 59.52133  Validation accuracy: 60.83%\n"
     ]
    },
    {
     "name": "stderr",
     "output_type": "stream",
     "text": [
      "c:\\Users\\brenn\\anaconda3\\envs\\ml_new\\lib\\site-packages\\sklearn\\utils\\optimize.py:210: ConvergenceWarning: newton-cg failed to converge. Increase the number of iterations.\n",
      "  warnings.warn(\n"
     ]
    },
    {
     "name": "stdout",
     "output_type": "stream",
     "text": [
      "Solver: newton-cg\n",
      "Training accuracy: 97.39854  Validation accuracy: 94.17%\n"
     ]
    },
    {
     "name": "stderr",
     "output_type": "stream",
     "text": [
      "c:\\Users\\brenn\\anaconda3\\envs\\ml_new\\lib\\site-packages\\sklearn\\linear_model\\_logistic.py:444: ConvergenceWarning: lbfgs failed to converge (status=2):\n",
      "ABNORMAL_TERMINATION_IN_LNSRCH.\n",
      "\n",
      "Increase the number of iterations (max_iter) or scale the data as shown in:\n",
      "    https://scikit-learn.org/stable/modules/preprocessing.html\n",
      "Please also refer to the documentation for alternative solver options:\n",
      "    https://scikit-learn.org/stable/modules/linear_model.html#logistic-regression\n",
      "  n_iter_i = _check_optimize_result(\n"
     ]
    },
    {
     "name": "stdout",
     "output_type": "stream",
     "text": [
      "Solver: lbfgs\n",
      "Training accuracy: 62.12279  Validation accuracy: 62.50%\n"
     ]
    },
    {
     "name": "stderr",
     "output_type": "stream",
     "text": [
      "c:\\Users\\brenn\\anaconda3\\envs\\ml_new\\lib\\site-packages\\sklearn\\linear_model\\_sag.py:350: ConvergenceWarning: The max_iter was reached which means the coef_ did not converge\n",
      "  warnings.warn(\n"
     ]
    },
    {
     "name": "stdout",
     "output_type": "stream",
     "text": [
      "Solver: sag\n",
      "Training accuracy: 17.58585  Validation accuracy: 20.00%\n",
      "Solver: saga\n",
      "Training accuracy: 17.79396  Validation accuracy: 22.50%\n",
      "[0.6083333333333333, 0.9416666666666667, 0.625, 0.2, 0.225]\n",
      "Best solver: newton-cg\n",
      "The test results.... 94.21%\n"
     ]
    },
    {
     "name": "stderr",
     "output_type": "stream",
     "text": [
      "c:\\Users\\brenn\\anaconda3\\envs\\ml_new\\lib\\site-packages\\sklearn\\linear_model\\_sag.py:350: ConvergenceWarning: The max_iter was reached which means the coef_ did not converge\n",
      "  warnings.warn(\n"
     ]
    }
   ],
   "source": [
    "# Test out a number of models\n",
    "models = []\n",
    "val_scores = []\n",
    "solvers = ['liblinear', 'newton-cg', 'lbfgs', 'sag', 'saga']  \n",
    "\n",
    "for solver in solvers:\n",
    "\n",
    "    model = LogisticRegression(solver=solver)\n",
    "\n",
    "    model.fit(x_train, y_train)\n",
    "\n",
    "    models.append(model)\n",
    "\n",
    "    predictions_train = model.predict(x_train)\n",
    "    score_train = model.score(x_train, y_train)\n",
    "\n",
    "    predictions_val = model.predict(x_val)\n",
    "    score_val = model.score(x_val, y_val)\n",
    "\n",
    "    val_scores.append(score_val)\n",
    "\n",
    "    print('Solver: {}'.format(solver))\n",
    "    print('Training accuracy: {:0.5f}  Validation accuracy: {:0.2f}%'.format(score_train*100, score_val*100))\n",
    "\n",
    "# Choose the best model based on highest validation accuracy\n",
    "print(val_scores)\n",
    "best_model_idx = np.argmax(val_scores)\n",
    "best_model = models[best_model_idx]\n",
    "\n",
    "# Sanity check\n",
    "print('Best solver: {}'.format(solvers[best_model_idx]))\n",
    "\n",
    "# Best solver on the test set\n",
    "predictions_test = best_model.predict(x_test)\n",
    "score_test = best_model.score(x_test, y_test)\n",
    "\n",
    "print(\"The test results.... {:0.2f}%\".format(score_test*100))"
   ]
  },
  {
   "cell_type": "code",
   "execution_count": 8,
   "metadata": {},
   "outputs": [
    {
     "data": {
      "text/plain": [
       "Text(0.5, 1.0, 'Accuracy Score: 0.9421487603305785')"
      ]
     },
     "execution_count": 8,
     "metadata": {},
     "output_type": "execute_result"
    },
    {
     "data": {
      "image/png": "[encoded data removed]",
      "text/plain": [
       "<Figure size 900x900 with 2 Axes>"
      ]
     },
     "metadata": {},
     "output_type": "display_data"
    }
   ],
   "source": [
    "cm = skmetrics.confusion_matrix(y_test, predictions_test)\n",
    "plt.figure(figsize=(9,9))\n",
    "sns.heatmap(cm, annot=True, fmt=\".3f\", linewidths=.5, square = True, cmap = 'Blues_r')\n",
    "plt.ylabel('Actual label')\n",
    "plt.xlabel('Predicted label')\n",
    "all_sample_title = 'Accuracy Score: {0}'.format(score_test)\n",
    "plt.title(all_sample_title, size = 15)"
   ]
  },
  {
   "cell_type": "code",
   "execution_count": 9,
   "metadata": {},
   "outputs": [],
   "source": [
    "kullback_leibler_test = skmetrics.mutual_info_score(y_test, predictions_test)\n",
    "\n",
    "print(kullback_leibler_test)"
   ]
  }
 ],
 "metadata": {
  "kernelspec": {
   "display_name": "ml_env",
   "language": "python",
   "name": "python3"
  },
  "language_info": {
   "codemirror_mode": {
    "name": "ipython",
    "version": 3
   },
   "file_extension": ".py",
   "mimetype": "text/x-python",
   "name": "python",
   "nbconvert_exporter": "python",
   "pygments_lexer": "ipython3",
   "version": "3.10.13"
  }
 },
 "nbformat": 4,
 "nbformat_minor": 2
}

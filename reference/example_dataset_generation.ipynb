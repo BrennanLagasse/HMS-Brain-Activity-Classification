{
 "cells": [
  {
   "cell_type": "markdown",
   "metadata": {},
   "source": [
    "Sanity check for the workflow for taking a dataset, transforming the inputs to generate a new dataset, and converting it into a CSV"
   ]
  },
  {
   "cell_type": "code",
   "execution_count": 3,
   "metadata": {},
   "outputs": [],
   "source": [
    "import pandas as pd"
   ]
  },
  {
   "cell_type": "code",
   "execution_count": 15,
   "metadata": {},
   "outputs": [
    {
     "name": "stdout",
     "output_type": "stream",
     "text": [
      "Dataset A\n",
      "   A  B\n",
      "0  1  4\n",
      "1  2  5\n",
      "2  3  6\n",
      "Dataset B\n",
      "   A   B\n",
      "0  2   8\n",
      "1  4  10\n",
      "2  6  12\n"
     ]
    }
   ],
   "source": [
    "# Sample DataFrames\n",
    "data_a = {'A': [1, 2, 3], 'B': [4, 5, 6]}  # Sample DataFrame A\n",
    "data_b = {'A': [], 'B': []}  # Sample DataFrame B\n",
    "\n",
    "df_a = pd.DataFrame(data_a)\n",
    "df_b = pd.DataFrame(data_b)\n",
    "\n",
    "# Function to calculate values for the new row in DataFrame B\n",
    "def calculate_new_row(row_a):\n",
    "    # Example calculation: doubling each value from row_a\n",
    "    new_row = row_a * 2\n",
    "    return new_row\n",
    "\n",
    "for i in range(0, df_a.shape[0]):\n",
    "    # Select a row from DataFrame A to calculate values for a new row in DataFrame B\n",
    "    df_b.loc[i] = calculate_new_row(df_a.loc[i])\n",
    "\n",
    "print(\"Dataset A\")\n",
    "print(df_a)\n",
    "print(\"Dataset B\")\n",
    "print(df_b)\n",
    "\n",
    "# Convert DataFrame B to CSV\n",
    "df_b.to_csv('dataframe_b.csv', index=False)"
   ]
  }
 ],
 "metadata": {
  "kernelspec": {
   "display_name": "ml_new",
   "language": "python",
   "name": "python3"
  },
  "language_info": {
   "codemirror_mode": {
    "name": "ipython",
    "version": 3
   },
   "file_extension": ".py",
   "mimetype": "text/x-python",
   "name": "python",
   "nbconvert_exporter": "python",
   "pygments_lexer": "ipython3",
   "version": "3.10.13"
  }
 },
 "nbformat": 4,
 "nbformat_minor": 2
}

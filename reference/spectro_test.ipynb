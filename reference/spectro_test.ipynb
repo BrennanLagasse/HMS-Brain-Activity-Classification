{
 "cells": [
  {
   "cell_type": "markdown",
   "metadata": {},
   "source": [
    "The goal of this file is to read in one example of an eeg output for a 10s period and perform a fast fourier transform on it"
   ]
  },
  {
   "cell_type": "code",
   "execution_count": 14,
   "metadata": {},
   "outputs": [],
   "source": [
    "import pandas as pd\n",
    "import numpy as np\n",
    "import matplotlib.pyplot as plt"
   ]
  },
  {
   "cell_type": "markdown",
   "metadata": {},
   "source": [
    "First, try to read in an example"
   ]
  },
  {
   "cell_type": "code",
   "execution_count": 15,
   "metadata": {},
   "outputs": [],
   "source": [
    "# Function to print out the values\n",
    "def fft_printout(time_series, duration):\n",
    "    \"\"\"Takes in a pandas Series and computes a Fourier Transform\"\"\"\n",
    "\n",
    "    # THIS MAY BE A MISINTERPRETATION OF THE DATA\n",
    "    t = np.linspace(0, duration, time_series.size)\n",
    "    dft_result = np.fft.rfft(time_series)\n",
    "\n",
    "    frequencies = np.fft.rfftfreq(len(time_series), t[1] - t[0])\n",
    "\n",
    "    # Extract amplitude and phase\n",
    "    amplitude = np.abs(dft_result)\n",
    "    phase = np.angle(dft_result)\n",
    "\n",
    "    # Original Graph\n",
    "    plt.figure(figsize=(15, 6))\n",
    "    plt.plot(t, time_series)\n",
    "    plt.title('Time Series Data')\n",
    "    plt.xlabel('Time')\n",
    "    plt.ylabel('Amplitude')\n",
    "\n",
    "    # Plotting Amplitude Spectrum\n",
    "    plt.figure(figsize=(15, 6))\n",
    "    plt.scatter(frequencies, amplitude, marker = \".\")\n",
    "    plt.title('Amplitude Spectrum')\n",
    "    plt.xlabel('Frequency (Hz)')\n",
    "    plt.ylabel('Amplitude')\n",
    "    plt.xlim(0, 15)\n",
    "    plt.ylim(0, 50000)\n",
    "    plt.show()\n",
    "\n",
    "    # Plotting Phase Spectrum\n",
    "    plt.figure(figsize=(15, 6))\n",
    "    plt.scatter(frequencies, phase, marker = \".\")\n",
    "    plt.title('Phase Spectrum')\n",
    "    plt.xlabel('Frequency (Hz)')\n",
    "    plt.ylabel('Phase (radians)')\n",
    "    plt.xlim(0.1, 2)\n",
    "    plt.ylim(-3.14, 3.14)\n",
    "    plt.show()\n",
    "    print(\"test\")\n"
   ]
  },
  {
   "cell_type": "code",
   "execution_count": 16,
   "metadata": {},
   "outputs": [
    {
     "name": "stdout",
     "output_type": "stream",
     "text": [
      "(106800, 15)\n",
      "<class 'pandas.core.frame.DataFrame'>\n",
      "(300, 401)\n",
      "Columns\n",
      "Index(['time', 'LL_0.59', 'LL_0.78', 'LL_0.98', 'LL_1.17', 'LL_1.37',\n",
      "       'LL_1.56', 'LL_1.76', 'LL_1.95', 'LL_2.15',\n",
      "       ...\n",
      "       'RP_18.16', 'RP_18.36', 'RP_18.55', 'RP_18.75', 'RP_18.95', 'RP_19.14',\n",
      "       'RP_19.34', 'RP_19.53', 'RP_19.73', 'RP_19.92'],\n",
      "      dtype='object', length=401)\n",
      "Index(['LL_0.59', 'LL_0.78', 'LL_0.98', 'LL_1.17', 'LL_1.37', 'LL_1.56',\n",
      "       'LL_1.76', 'LL_1.95', 'LL_2.15', 'LL_2.34',\n",
      "       ...\n",
      "       'RP_18.16', 'RP_18.36', 'RP_18.55', 'RP_18.75', 'RP_18.95', 'RP_19.14',\n",
      "       'RP_19.34', 'RP_19.53', 'RP_19.73', 'RP_19.92'],\n",
      "      dtype='object', length=400)\n"
     ]
    }
   ],
   "source": [
    "# GET ATTRIBUTION FOR THIS CODE: https://www.kaggle.com/competitions/hms-harmful-brain-activity-classification/discussion/468010\n",
    "\n",
    "GET_ROW = 0\n",
    "EEG_PATH = '../train_eegs/'\n",
    "SPEC_PATH = '../train_spectrograms/'\n",
    "\n",
    "train = pd.read_csv('../train.csv')\n",
    "row = train.iloc[GET_ROW]\n",
    "\n",
    "print(train.shape)\n",
    "\n",
    "# Read in the spectrogram data (not used yet)\n",
    "spectrogram = pd.read_parquet(f'{SPEC_PATH}{row.spectrogram_id}.parquet')\n",
    "spec_offset = int( row.spectrogram_label_offset_seconds )\n",
    "spectrogram = spectrogram.loc[(spectrogram.time>=spec_offset)\n",
    "                     &(spectrogram.time<spec_offset+600)]\n",
    "\n",
    "print(type(spectrogram))\n",
    "print(spectrogram.shape)\n",
    "#print(spectrogram)\n",
    "\n",
    "print(\"Columns\")\n",
    "print(spectrogram.columns)\n",
    "print(spectrogram.columns[1:]) # Get all the columns excluding time\n",
    "\n",
    "\n",
    "\n",
    "#spectrogram.to_csv('spectro_test.csv', index=False)\n"
   ]
  },
  {
   "cell_type": "code",
   "execution_count": null,
   "metadata": {},
   "outputs": [],
   "source": []
  }
 ],
 "metadata": {
  "kernelspec": {
   "display_name": "ml_new",
   "language": "python",
   "name": "python3"
  },
  "language_info": {
   "codemirror_mode": {
    "name": "ipython",
    "version": 3
   },
   "file_extension": ".py",
   "mimetype": "text/x-python",
   "name": "python",
   "nbconvert_exporter": "python",
   "pygments_lexer": "ipython3",
   "version": "3.10.13"
  }
 },
 "nbformat": 4,
 "nbformat_minor": 2
}

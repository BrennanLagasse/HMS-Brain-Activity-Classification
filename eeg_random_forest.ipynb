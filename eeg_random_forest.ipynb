{
 "cells": [
  {
   "cell_type": "code",
   "execution_count": 1,
   "metadata": {},
   "outputs": [],
   "source": [
    "import numpy as np\n",
    "import pandas as pd\n",
    "import sklearn.datasets as skdata\n",
    "import sklearn.metrics as skmetrics\n",
    "from sklearn.ensemble import RandomForestClassifier\n",
    "import matplotlib.pyplot as plt\n",
    "import seaborn as sns"
   ]
  },
  {
   "cell_type": "code",
   "execution_count": 2,
   "metadata": {},
   "outputs": [],
   "source": [
    "# MAKE SURE TO CHANGE THIS TO THE LOCAL PATH TO DATA\n",
    "#TRAIN_PATH = \"../augmented_train/reformatted_train_10000_samples.csv\"\n",
    "TRAIN_PATH = \"train_1998_samples_fft_0_to_10_hz_consensus_1.0_balanced.csv\"\n",
    "data = pd.read_csv(TRAIN_PATH)\n",
    "data_np = data.to_numpy()"
   ]
  },
  {
   "cell_type": "code",
   "execution_count": 3,
   "metadata": {},
   "outputs": [],
   "source": [
    "num_input = data_np.shape[1] - 1\n",
    "\n",
    "x = data_np[:, 0:num_input]\n",
    "y = data_np[:, num_input]\n",
    "\n",
    "# Shuffle the dataset based on sample indices\n",
    "shuffled_indices = np.random.permutation(x.shape[0])\n",
    "\n",
    "# Choose the first 80% as training set, next 10% as validation and the rest as testing\n",
    "train_split_idx = int(0.80 * x.shape[0])\n",
    "val_split_idx = int(0.90 * x.shape[0])\n",
    "\n",
    "train_indices = shuffled_indices[0:train_split_idx]\n",
    "val_indices = shuffled_indices[train_split_idx:val_split_idx]\n",
    "test_indices = shuffled_indices[val_split_idx:]\n",
    "\n",
    "# Select the examples from x and y to construct our training, validation, testing sets\n",
    "x_train, y_train = x[train_indices, :], y[train_indices]\n",
    "x_val, y_val = x[val_indices, :], y[val_indices]\n",
    "x_test, y_test = x[test_indices, :], y[test_indices]"
   ]
  },
  {
   "cell_type": "code",
   "execution_count": 7,
   "metadata": {},
   "outputs": [
    {
     "name": "stdout",
     "output_type": "stream",
     "text": [
      "metric: gini, tree size: 10\n",
      "Training accuracy: 99.24576%  Validation accuracy: 43.22% Testing accuracy: 43.22%\n",
      "metric: gini, tree size: 50\n",
      "Training accuracy: 100.00000%  Validation accuracy: 45.73% Testing accuracy: 51.76%\n",
      "metric: gini, tree size: 100\n",
      "Training accuracy: 100.00000%  Validation accuracy: 47.24% Testing accuracy: 53.77%\n",
      "metric: gini, tree size: 250\n",
      "Training accuracy: 100.00000%  Validation accuracy: 49.25% Testing accuracy: 56.78%\n",
      "metric: gini, tree size: 500\n",
      "Training accuracy: 100.00000%  Validation accuracy: 49.25% Testing accuracy: 56.28%\n",
      "metric: gini, tree size: 2000\n",
      "Training accuracy: 100.00000%  Validation accuracy: 48.24% Testing accuracy: 57.29%\n",
      "metric: entropy, tree size: 10\n",
      "Training accuracy: 99.49717%  Validation accuracy: 38.69% Testing accuracy: 46.73%\n",
      "metric: entropy, tree size: 50\n",
      "Training accuracy: 100.00000%  Validation accuracy: 45.23% Testing accuracy: 51.76%\n",
      "metric: entropy, tree size: 100\n",
      "Training accuracy: 100.00000%  Validation accuracy: 50.75% Testing accuracy: 51.76%\n",
      "metric: entropy, tree size: 250\n",
      "Training accuracy: 100.00000%  Validation accuracy: 47.74% Testing accuracy: 55.28%\n",
      "metric: entropy, tree size: 500\n",
      "Training accuracy: 100.00000%  Validation accuracy: 50.25% Testing accuracy: 55.78%\n",
      "metric: entropy, tree size: 2000\n",
      "Training accuracy: 100.00000%  Validation accuracy: 49.25% Testing accuracy: 56.78%\n",
      "metric: log_loss, tree size: 10\n",
      "Training accuracy: 99.12005%  Validation accuracy: 40.70% Testing accuracy: 45.73%\n",
      "metric: log_loss, tree size: 50\n",
      "Training accuracy: 100.00000%  Validation accuracy: 43.72% Testing accuracy: 50.75%\n",
      "metric: log_loss, tree size: 100\n",
      "Training accuracy: 100.00000%  Validation accuracy: 45.23% Testing accuracy: 53.77%\n",
      "metric: log_loss, tree size: 250\n",
      "Training accuracy: 100.00000%  Validation accuracy: 48.24% Testing accuracy: 54.27%\n",
      "metric: log_loss, tree size: 500\n",
      "Training accuracy: 100.00000%  Validation accuracy: 48.24% Testing accuracy: 55.78%\n",
      "metric: log_loss, tree size: 2000\n",
      "Training accuracy: 100.00000%  Validation accuracy: 47.24% Testing accuracy: 57.29%\n",
      "Best model with metric gini and tree size 2000\n",
      "\n",
      " with error: 0.5728643216080402\n"
     ]
    }
   ],
   "source": [
    "model = RandomForestClassifier()\n",
    "models = []\n",
    "#metrics give node-splitting conditions for construction of trees\n",
    "metrics = ['gini', 'entropy', 'log_loss']\n",
    "tree_sizes = [10, 50, 100, 250, 500, 2000]\n",
    "model_scores = []\n",
    "\n",
    "for metric in metrics:\n",
    "    for tree_size in tree_sizes:\n",
    "        model = RandomForestClassifier(n_estimators = tree_size, criterion = metric)\n",
    "        model.fit(x_train, y_train)\n",
    "        models.append(model)\n",
    "\n",
    "        predictions_train = model.predict(x_train)\n",
    "        score_train = skmetrics.accuracy_score(predictions_train, y_train)\n",
    "\n",
    "        predictions_val = model.predict(x_val)\n",
    "        score_val = skmetrics.accuracy_score(predictions_val, y_val)\n",
    "\n",
    "        predictions_test = model.predict(x_test)\n",
    "        score_test = skmetrics.accuracy_score(predictions_test, y_test)\n",
    "\n",
    "        model_scores.append(score_test)\n",
    "        print('metric: {}, tree size: {}'.format(metric, tree_size))\n",
    "        print('Training accuracy: {:0.5f}%  Validation accuracy: {:0.2f}% Testing accuracy: {:0.2f}%'.format(score_train*100, score_val*100, score_test*100))\n",
    "\n",
    "best_model_idx = np.argmax(model_scores)\n",
    "best_model = models[best_model_idx]\n",
    "best_model_prediction = models[best_model_idx].predict(x_test)\n",
    "\n",
    "print('Best model with metric {} and tree size {}'.format(metrics[best_model_idx//len(tree_sizes)], tree_sizes[best_model_idx%len(tree_sizes)]))\n",
    "print('\\n with error: {}'.format(model_scores[best_model_idx]))\n"
   ]
  }
 ],
 "metadata": {
  "kernelspec": {
   "display_name": "base",
   "language": "python",
   "name": "python3"
  },
  "language_info": {
   "codemirror_mode": {
    "name": "ipython",
    "version": 3
   },
   "file_extension": ".py",
   "mimetype": "text/x-python",
   "name": "python",
   "nbconvert_exporter": "python",
   "pygments_lexer": "ipython3",
   "version": "3.11.7"
  }
 },
 "nbformat": 4,
 "nbformat_minor": 2
}

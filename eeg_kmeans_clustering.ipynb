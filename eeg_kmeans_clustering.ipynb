{
 "cells": [
  {
   "cell_type": "code",
   "execution_count": 111,
   "metadata": {},
   "outputs": [],
   "source": [
    "import numpy as np\n",
    "import pandas as pd\n",
    "from sklearn.cluster import KMeans\n",
    "from sklearn.metrics import silhouette_score\n",
    "from sklearn.metrics import adjusted_rand_score\n",
    "from sklearn.metrics import adjusted_mutual_info_score\n",
    "import random\n",
    "\n",
    "random.seed(7)"
   ]
  },
  {
   "cell_type": "code",
   "execution_count": 112,
   "metadata": {},
   "outputs": [],
   "source": [
    "# MAKE SURE TO CHANGE THIS TO THE LOCAL PATH TO DATA\n",
    "#TRAIN_PATH = \"../augmented_train/reformatted_train_106800_samples.csv\"\n",
    "TRAIN_PATH = \"train_15000_samples_fft_0_to_10_hz_consensus_1.0_balanced.csv\"\n",
    "\n",
    "data = pd.read_csv(TRAIN_PATH)\n",
    "\n",
    "data_np = data.to_numpy()"
   ]
  },
  {
   "cell_type": "code",
   "execution_count": 113,
   "metadata": {},
   "outputs": [],
   "source": [
    "num_input = data_np.shape[1] - 1\n",
    "\n",
    "x = data_np[:, 0:num_input]\n",
    "y = data_np[:, num_input]\n",
    "\n",
    "# Map labels to numerical values\n",
    "label_mapping = {'GPD': 0, 'GRDA': 1, 'LPD': 2, 'LRDA': 3, 'Seizure': 4, 'Other': 5}\n",
    "y = np.array([label_mapping[label] for label in y])\n",
    "\n",
    "# Shuffle the dataset based on sample indices\n",
    "shuffled_indices = np.random.permutation(x.shape[0])\n",
    "\n",
    "# Choose the first 80% as training set, next 10% as validation and the rest as testing\n",
    "train_split_idx = int(0.80 * x.shape[0])\n",
    "val_split_idx = int(0.90 * x.shape[0])\n",
    "\n",
    "train_indices = shuffled_indices[0:train_split_idx]\n",
    "val_indices = shuffled_indices[train_split_idx:val_split_idx]\n",
    "test_indices = shuffled_indices[val_split_idx:]\n",
    "\n",
    "# Select the examples from x and y to construct our training, validation, testing sets\n",
    "x_train, y_train = x[train_indices, :], y[train_indices]\n",
    "x_val, y_val = x[val_indices, :], y[val_indices]\n",
    "x_test, y_test = x[test_indices, :], y[test_indices]"
   ]
  },
  {
   "cell_type": "code",
   "execution_count": 114,
   "metadata": {},
   "outputs": [
    {
     "name": "stdout",
     "output_type": "stream",
     "text": [
      "6 Clusters - Training silhouette score: 0.95097  Validation silhouette score: 0.95582\n",
      "The best model has 6 clusters\n",
      "The test silhouette score for the best model: 0.9560952240580038\n",
      "The test adjusted rand score for the best model: 0.0005908856647565565\n",
      "The test mutual information score for the best model: 0.009274057293535348\n"
     ]
    }
   ],
   "source": [
    "n_clusters = 6  # Define the number of clusters\n",
    "kmeans = KMeans(n_clusters=n_clusters, random_state=7)  # Create a KMeans clustering model with 6 clusters\n",
    "kmeans.fit(x_train)  # Fit the KMeans model to the training data\n",
    "\n",
    "train_labels = kmeans.labels_  # Get the cluster labels assigned to each training data point\n",
    "score_train = silhouette_score(x_train, train_labels)  # Calculate the silhouette score for the training data\n",
    "\n",
    "val_labels = kmeans.predict(x_val)  # Predict cluster labels for the validation data using the trained model\n",
    "score_val = silhouette_score(x_val, val_labels)  # Calculate the silhouette score for the validation data\n",
    "\n",
    "print('{} Clusters - Training silhouette score: {:0.5f}  Validation silhouette score: {:0.5f}'.format(n_clusters, score_train, score_val))  # Print the silhouette scores for training and validation data\n",
    "\n",
    "print(f\"The best model has {n_clusters} clusters\")  # Print the number of clusters in the best model\n",
    "\n",
    "# Evaluate the best model on the test set\n",
    "test_labels = kmeans.predict(x_test)  # Predict cluster labels for the test data using the best model\n",
    "\n",
    "test_silhouette = silhouette_score(x_test, test_labels)  # Calculate the silhouette score for the test data\n",
    "test_adj_rand = adjusted_rand_score(y_test, test_labels)  # Calculate the adjusted Rand index for the test data\n",
    "test_mi = adjusted_mutual_info_score(y_test, test_labels)  # Calculate the adjusted mutual information for the test data\n",
    "\n",
    "# Print the evaluation metrics for the best model on the test data\n",
    "print(\"The test silhouette score for the best model:\", test_silhouette)\n",
    "print(\"The test adjusted rand score for the best model:\", test_adj_rand)\n",
    "print(\"The test mutual information score for the best model:\", test_mi)\n",
    "\n",
    "# As the results below show, there appears to be no indication that the clustering algorithm learned the same classes as our ground truths."
   ]
  }
 ],
 "metadata": {
  "kernelspec": {
   "display_name": "ml_new",
   "language": "python",
   "name": "python3"
  },
  "language_info": {
   "codemirror_mode": {
    "name": "ipython",
    "version": 3
   },
   "file_extension": ".py",
   "mimetype": "text/x-python",
   "name": "python",
   "nbconvert_exporter": "python",
   "pygments_lexer": "ipython3",
   "version": "3.9.6"
  }
 },
 "nbformat": 4,
 "nbformat_minor": 2
}
